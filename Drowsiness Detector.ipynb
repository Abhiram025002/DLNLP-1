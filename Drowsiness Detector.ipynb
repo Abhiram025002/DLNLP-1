{
 "cells": [
  {
   "cell_type": "code",
   "execution_count": 1,
   "id": "87887085",
   "metadata": {
    "id": "87887085"
   },
   "outputs": [],
   "source": [
    "import tensorflow as tf\n",
    "from keras.preprocessing.image import ImageDataGenerator\n",
    "import os"
   ]
  },
  {
   "cell_type": "code",
   "execution_count": 2,
   "id": "c9b3885b",
   "metadata": {
    "id": "c9b3885b",
    "outputId": "14d6f50b-0b25-40aa-fda6-4c0cc8c01a28"
   },
   "outputs": [
    {
     "data": {
      "text/plain": [
       "'2.9.2'"
      ]
     },
     "execution_count": 2,
     "metadata": {},
     "output_type": "execute_result"
    }
   ],
   "source": [
    "tf.__version__\n"
   ]
  },
  {
   "cell_type": "code",
   "execution_count": 3,
   "id": "2463c436",
   "metadata": {
    "id": "2463c436",
    "outputId": "3baefc48-e594-45dc-dd4f-8a6d4d5db872"
   },
   "outputs": [
    {
     "name": "stdout",
     "output_type": "stream",
     "text": [
      "Found 1150 images belonging to 2 classes.\n"
     ]
    }
   ],
   "source": [
    "train_datagen = ImageDataGenerator(rescale = 1./255,\n",
    "                                   shear_range = 0.2,\n",
    "                                   zoom_range = 0.2,\n",
    "                                   brightness_range=(0.1, 0.9),\n",
    "                                   channel_shift_range=150.0,\n",
    "                                   width_shift_range=0.3,\n",
    "                                   height_shift_range=0.3,\n",
    "                                   horizontal_flip = True)\n",
    "training_set = train_datagen.flow_from_directory('/Users/namanvasudeva/Downloads/DAtaset/train',\n",
    "                                                 target_size = (64, 64),\n",
    "                                                 batch_size = 32,\n",
    "                                                 class_mode = 'binary')"
   ]
  },
  {
   "cell_type": "code",
   "execution_count": 4,
   "id": "546d626b",
   "metadata": {
    "id": "546d626b",
    "outputId": "f0f2ad77-b47f-41af-832b-f40cc31f5691"
   },
   "outputs": [
    {
     "name": "stdout",
     "output_type": "stream",
     "text": [
      "Found 600 images belonging to 2 classes.\n"
     ]
    }
   ],
   "source": [
    "test_datagen = ImageDataGenerator(rescale = 1./255)\n",
    "test_set = test_datagen.flow_from_directory('/Users/namanvasudeva/Downloads/DAtaset/test',\n",
    "                                            target_size = (64, 64),\n",
    "                                            batch_size = 32,\n",
    "                                            class_mode = 'binary')"
   ]
  },
  {
   "cell_type": "code",
   "execution_count": 5,
   "id": "f2ae3071",
   "metadata": {
    "id": "f2ae3071"
   },
   "outputs": [
    {
     "name": "stdout",
     "output_type": "stream",
     "text": [
      "Metal device set to: Apple M1\n"
     ]
    },
    {
     "name": "stderr",
     "output_type": "stream",
     "text": [
      "2022-07-20 22:57:16.811477: I tensorflow/core/common_runtime/pluggable_device/pluggable_device_factory.cc:305] Could not identify NUMA node of platform GPU ID 0, defaulting to 0. Your kernel may not have been built with NUMA support.\n",
      "2022-07-20 22:57:16.811592: I tensorflow/core/common_runtime/pluggable_device/pluggable_device_factory.cc:271] Created TensorFlow device (/job:localhost/replica:0/task:0/device:GPU:0 with 0 MB memory) -> physical PluggableDevice (device: 0, name: METAL, pci bus id: <undefined>)\n"
     ]
    }
   ],
   "source": [
    "cnn = tf.keras.models.Sequential()"
   ]
  },
  {
   "cell_type": "code",
   "execution_count": 6,
   "id": "4333b4d7",
   "metadata": {
    "id": "4333b4d7"
   },
   "outputs": [],
   "source": [
    "cnn.add(tf.keras.layers.Conv2D(filters=32, kernel_size=3, activation='relu', input_shape=[64, 64, 3]))\n"
   ]
  },
  {
   "cell_type": "code",
   "execution_count": 7,
   "id": "d711cd9c",
   "metadata": {
    "id": "d711cd9c"
   },
   "outputs": [],
   "source": [
    "cnn.add(tf.keras.layers.MaxPool2D(pool_size=2, strides=2))\n"
   ]
  },
  {
   "cell_type": "code",
   "execution_count": 8,
   "id": "c3dc5984",
   "metadata": {
    "id": "c3dc5984"
   },
   "outputs": [],
   "source": [
    "cnn.add(tf.keras.layers.Conv2D(filters=32, kernel_size=3, activation='relu'))\n",
    "cnn.add(tf.keras.layers.MaxPool2D(pool_size=2, strides=2))\n"
   ]
  },
  {
   "cell_type": "code",
   "execution_count": 9,
   "id": "ecc5bf91",
   "metadata": {
    "id": "ecc5bf91"
   },
   "outputs": [],
   "source": [
    "cnn.add(tf.keras.layers.Flatten())\n"
   ]
  },
  {
   "cell_type": "code",
   "execution_count": 10,
   "id": "a460ac02",
   "metadata": {
    "id": "a460ac02"
   },
   "outputs": [],
   "source": [
    "cnn.add(tf.keras.layers.Dense(units=128, activation='relu'))\n"
   ]
  },
  {
   "cell_type": "code",
   "execution_count": 11,
   "id": "2d011e5f",
   "metadata": {
    "id": "2d011e5f"
   },
   "outputs": [],
   "source": [
    "cnn.add(tf.keras.layers.Dense(units=1, activation='sigmoid'))\n"
   ]
  },
  {
   "cell_type": "code",
   "execution_count": 12,
   "id": "909562c1",
   "metadata": {
    "id": "909562c1"
   },
   "outputs": [],
   "source": [
    "cnn.compile(optimizer = 'adam', loss = 'binary_crossentropy', metrics = ['accuracy'])\n"
   ]
  },
  {
   "cell_type": "code",
   "execution_count": 13,
   "id": "24186257",
   "metadata": {
    "id": "24186257",
    "outputId": "7018ad6f-f2c8-4141-b737-8f604d8eadd6",
    "scrolled": true
   },
   "outputs": [
    {
     "name": "stdout",
     "output_type": "stream",
     "text": [
      "Epoch 1/50\n"
     ]
    },
    {
     "name": "stderr",
     "output_type": "stream",
     "text": [
      "2022-07-20 22:57:17.051004: W tensorflow/core/platform/profile_utils/cpu_utils.cc:128] Failed to get CPU frequency: 0 Hz\n",
      "2022-07-20 22:57:17.268768: I tensorflow/core/grappler/optimizers/custom_graph_optimizer_registry.cc:113] Plugin optimizer for device_type GPU is enabled.\n"
     ]
    },
    {
     "name": "stdout",
     "output_type": "stream",
     "text": [
      "36/36 [==============================] - ETA: 0s - loss: 0.6982 - accuracy: 0.5113"
     ]
    },
    {
     "name": "stderr",
     "output_type": "stream",
     "text": [
      "2022-07-20 22:57:21.121714: I tensorflow/core/grappler/optimizers/custom_graph_optimizer_registry.cc:113] Plugin optimizer for device_type GPU is enabled.\n"
     ]
    },
    {
     "name": "stdout",
     "output_type": "stream",
     "text": [
      "36/36 [==============================] - 5s 130ms/step - loss: 0.6982 - accuracy: 0.5113 - val_loss: 0.7046 - val_accuracy: 0.5217\n",
      "Epoch 2/50\n",
      "36/36 [==============================] - 4s 112ms/step - loss: 0.6890 - accuracy: 0.5496 - val_loss: 0.7024 - val_accuracy: 0.4133\n",
      "Epoch 3/50\n",
      "36/36 [==============================] - 4s 113ms/step - loss: 0.6902 - accuracy: 0.5609 - val_loss: 0.7568 - val_accuracy: 0.4933\n",
      "Epoch 4/50\n",
      "36/36 [==============================] - 4s 113ms/step - loss: 0.6679 - accuracy: 0.5930 - val_loss: 0.7476 - val_accuracy: 0.4117\n",
      "Epoch 5/50\n",
      "36/36 [==============================] - 4s 112ms/step - loss: 0.6555 - accuracy: 0.5957 - val_loss: 1.0791 - val_accuracy: 0.4350\n",
      "Epoch 6/50\n",
      "36/36 [==============================] - 4s 111ms/step - loss: 0.6486 - accuracy: 0.6043 - val_loss: 1.0522 - val_accuracy: 0.4900\n",
      "Epoch 7/50\n",
      "36/36 [==============================] - 4s 111ms/step - loss: 0.6631 - accuracy: 0.6035 - val_loss: 0.8341 - val_accuracy: 0.5733\n",
      "Epoch 8/50\n",
      "36/36 [==============================] - 4s 109ms/step - loss: 0.6553 - accuracy: 0.5957 - val_loss: 1.3456 - val_accuracy: 0.4750\n",
      "Epoch 9/50\n",
      "36/36 [==============================] - 4s 109ms/step - loss: 0.6411 - accuracy: 0.6209 - val_loss: 1.6569 - val_accuracy: 0.3883\n",
      "Epoch 10/50\n",
      "36/36 [==============================] - 4s 109ms/step - loss: 0.6258 - accuracy: 0.6339 - val_loss: 2.2333 - val_accuracy: 0.3917\n",
      "Epoch 11/50\n",
      "36/36 [==============================] - 4s 109ms/step - loss: 0.6112 - accuracy: 0.6591 - val_loss: 2.5816 - val_accuracy: 0.3783\n",
      "Epoch 12/50\n",
      "36/36 [==============================] - 4s 109ms/step - loss: 0.6186 - accuracy: 0.6609 - val_loss: 1.2034 - val_accuracy: 0.4483\n",
      "Epoch 13/50\n",
      "36/36 [==============================] - 4s 113ms/step - loss: 0.6041 - accuracy: 0.6452 - val_loss: 2.4441 - val_accuracy: 0.4433\n",
      "Epoch 14/50\n",
      "36/36 [==============================] - 4s 110ms/step - loss: 0.5890 - accuracy: 0.6896 - val_loss: 2.3941 - val_accuracy: 0.4683\n",
      "Epoch 15/50\n",
      "36/36 [==============================] - 4s 110ms/step - loss: 0.5922 - accuracy: 0.6791 - val_loss: 1.9761 - val_accuracy: 0.3467\n",
      "Epoch 16/50\n",
      "36/36 [==============================] - 4s 110ms/step - loss: 0.5969 - accuracy: 0.6678 - val_loss: 2.5796 - val_accuracy: 0.4000\n",
      "Epoch 17/50\n",
      "36/36 [==============================] - 4s 110ms/step - loss: 0.5708 - accuracy: 0.7017 - val_loss: 3.0004 - val_accuracy: 0.3850\n",
      "Epoch 18/50\n",
      "36/36 [==============================] - 4s 111ms/step - loss: 0.5641 - accuracy: 0.7122 - val_loss: 4.5877 - val_accuracy: 0.3783\n",
      "Epoch 19/50\n",
      "36/36 [==============================] - 4s 112ms/step - loss: 0.5776 - accuracy: 0.6922 - val_loss: 2.2793 - val_accuracy: 0.3667\n",
      "Epoch 20/50\n",
      "36/36 [==============================] - 4s 110ms/step - loss: 0.5538 - accuracy: 0.7130 - val_loss: 3.1614 - val_accuracy: 0.4367\n",
      "Epoch 21/50\n",
      "36/36 [==============================] - 4s 110ms/step - loss: 0.5691 - accuracy: 0.6826 - val_loss: 2.9747 - val_accuracy: 0.4400\n",
      "Epoch 22/50\n",
      "36/36 [==============================] - 4s 111ms/step - loss: 0.5526 - accuracy: 0.6965 - val_loss: 3.6516 - val_accuracy: 0.4567\n",
      "Epoch 23/50\n",
      "36/36 [==============================] - 4s 110ms/step - loss: 0.5394 - accuracy: 0.7330 - val_loss: 3.6304 - val_accuracy: 0.4783\n",
      "Epoch 24/50\n",
      "36/36 [==============================] - 4s 109ms/step - loss: 0.5394 - accuracy: 0.7200 - val_loss: 4.2684 - val_accuracy: 0.3667\n",
      "Epoch 25/50\n",
      "36/36 [==============================] - 4s 110ms/step - loss: 0.5560 - accuracy: 0.7122 - val_loss: 4.1768 - val_accuracy: 0.4683\n",
      "Epoch 26/50\n",
      "36/36 [==============================] - 4s 110ms/step - loss: 0.5627 - accuracy: 0.6948 - val_loss: 3.3365 - val_accuracy: 0.4133\n",
      "Epoch 27/50\n",
      "36/36 [==============================] - 4s 110ms/step - loss: 0.5401 - accuracy: 0.7130 - val_loss: 4.5993 - val_accuracy: 0.4317\n",
      "Epoch 28/50\n",
      "36/36 [==============================] - 4s 111ms/step - loss: 0.5234 - accuracy: 0.7383 - val_loss: 4.1729 - val_accuracy: 0.3983\n",
      "Epoch 29/50\n",
      "36/36 [==============================] - 4s 110ms/step - loss: 0.5358 - accuracy: 0.7296 - val_loss: 2.9763 - val_accuracy: 0.4017\n",
      "Epoch 30/50\n",
      "36/36 [==============================] - 4s 110ms/step - loss: 0.5200 - accuracy: 0.7426 - val_loss: 2.6602 - val_accuracy: 0.4417\n",
      "Epoch 31/50\n",
      "36/36 [==============================] - 4s 110ms/step - loss: 0.5451 - accuracy: 0.7096 - val_loss: 3.8019 - val_accuracy: 0.4217\n",
      "Epoch 32/50\n",
      "36/36 [==============================] - 4s 110ms/step - loss: 0.5203 - accuracy: 0.7296 - val_loss: 1.6960 - val_accuracy: 0.4433\n",
      "Epoch 33/50\n",
      "36/36 [==============================] - 4s 111ms/step - loss: 0.5449 - accuracy: 0.7009 - val_loss: 4.0753 - val_accuracy: 0.4167\n",
      "Epoch 34/50\n",
      "36/36 [==============================] - 4s 110ms/step - loss: 0.5165 - accuracy: 0.7409 - val_loss: 4.9865 - val_accuracy: 0.4033\n",
      "Epoch 35/50\n",
      "36/36 [==============================] - 4s 111ms/step - loss: 0.5130 - accuracy: 0.7330 - val_loss: 5.5227 - val_accuracy: 0.3617\n",
      "Epoch 36/50\n",
      "36/36 [==============================] - 4s 111ms/step - loss: 0.5067 - accuracy: 0.7391 - val_loss: 6.2477 - val_accuracy: 0.3883\n",
      "Epoch 37/50\n",
      "36/36 [==============================] - 4s 112ms/step - loss: 0.5200 - accuracy: 0.7235 - val_loss: 4.0979 - val_accuracy: 0.3417\n",
      "Epoch 38/50\n",
      "36/36 [==============================] - 4s 111ms/step - loss: 0.4993 - accuracy: 0.7452 - val_loss: 4.7400 - val_accuracy: 0.4233\n",
      "Epoch 39/50\n",
      "36/36 [==============================] - 4s 111ms/step - loss: 0.4927 - accuracy: 0.7470 - val_loss: 3.3990 - val_accuracy: 0.3283\n",
      "Epoch 40/50\n",
      "36/36 [==============================] - 4s 111ms/step - loss: 0.4842 - accuracy: 0.7565 - val_loss: 4.3177 - val_accuracy: 0.3333\n",
      "Epoch 41/50\n",
      "36/36 [==============================] - 4s 111ms/step - loss: 0.4889 - accuracy: 0.7478 - val_loss: 6.7657 - val_accuracy: 0.4550\n",
      "Epoch 42/50\n",
      "36/36 [==============================] - 4s 111ms/step - loss: 0.5116 - accuracy: 0.7339 - val_loss: 6.8425 - val_accuracy: 0.4017\n",
      "Epoch 43/50\n",
      "36/36 [==============================] - 4s 111ms/step - loss: 0.4915 - accuracy: 0.7470 - val_loss: 6.2271 - val_accuracy: 0.3800\n",
      "Epoch 44/50\n",
      "36/36 [==============================] - 4s 110ms/step - loss: 0.5415 - accuracy: 0.7174 - val_loss: 3.5218 - val_accuracy: 0.4467\n",
      "Epoch 45/50\n",
      "36/36 [==============================] - 4s 111ms/step - loss: 0.5044 - accuracy: 0.7478 - val_loss: 6.6632 - val_accuracy: 0.3833\n",
      "Epoch 46/50\n",
      "36/36 [==============================] - 4s 111ms/step - loss: 0.5038 - accuracy: 0.7296 - val_loss: 5.8002 - val_accuracy: 0.4367\n",
      "Epoch 47/50\n",
      "36/36 [==============================] - 4s 111ms/step - loss: 0.4799 - accuracy: 0.7574 - val_loss: 7.0013 - val_accuracy: 0.4317\n",
      "Epoch 48/50\n",
      "36/36 [==============================] - 4s 111ms/step - loss: 0.4842 - accuracy: 0.7565 - val_loss: 6.3649 - val_accuracy: 0.4150\n",
      "Epoch 49/50\n",
      "36/36 [==============================] - 4s 116ms/step - loss: 0.4830 - accuracy: 0.7609 - val_loss: 4.1721 - val_accuracy: 0.4333\n",
      "Epoch 50/50\n",
      "36/36 [==============================] - 4s 111ms/step - loss: 0.4791 - accuracy: 0.7513 - val_loss: 5.2677 - val_accuracy: 0.4083\n"
     ]
    },
    {
     "data": {
      "text/plain": [
       "<keras.callbacks.History at 0x16114a730>"
      ]
     },
     "execution_count": 13,
     "metadata": {},
     "output_type": "execute_result"
    }
   ],
   "source": [
    "cnn.fit(x = training_set, validation_data = test_set, epochs = 50)\n",
    "\n"
   ]
  },
  {
   "cell_type": "code",
   "execution_count": 14,
   "id": "4bc8b0ea",
   "metadata": {
    "id": "4bc8b0ea",
    "outputId": "8ff8ea49-4204-4c6e-8ffd-5a0f4a810636"
   },
   "outputs": [
    {
     "name": "stdout",
     "output_type": "stream",
     "text": [
      "1/1 [==============================] - 0s 58ms/step\n"
     ]
    },
    {
     "name": "stderr",
     "output_type": "stream",
     "text": [
      "2022-07-20 23:00:37.572398: I tensorflow/core/grappler/optimizers/custom_graph_optimizer_registry.cc:113] Plugin optimizer for device_type GPU is enabled.\n"
     ]
    }
   ],
   "source": [
    "import numpy as np\n",
    "from keras.preprocessing import image\n",
    "test_image = tf.keras.preprocessing.image.load_img('/Users/namanvasudeva/Downloads/DAtaset/predict/check.jpg', target_size = (64, 64))\n",
    "test_image = tf.keras.preprocessing.image.img_to_array(test_image)\n",
    "test_image = np.expand_dims(test_image, axis = 0)\n",
    "result = cnn.predict(test_image)\n",
    "training_set.class_indices\n",
    "if result[0][0] == 1:\n",
    "  prediction = 'Drowsy'\n",
    "else:\n",
    "  prediction = 'Alert'"
   ]
  },
  {
   "cell_type": "code",
   "execution_count": 15,
   "id": "f24640bd",
   "metadata": {
    "id": "f24640bd",
    "outputId": "7dab59e7-3153-4fd9-8260-a651769b2f09"
   },
   "outputs": [
    {
     "name": "stdout",
     "output_type": "stream",
     "text": [
      "Drowsy\n"
     ]
    }
   ],
   "source": [
    "print(prediction)\n"
   ]
  },
  {
   "cell_type": "code",
   "execution_count": 16,
   "id": "222f40c2",
   "metadata": {},
   "outputs": [
    {
     "name": "stdout",
     "output_type": "stream",
     "text": [
      "1/1 [==============================] - 0s 14ms/step\n"
     ]
    }
   ],
   "source": [
    "import numpy as np\n",
    "from keras.preprocessing import image\n",
    "test_image = tf.keras.preprocessing.image.load_img('/Users/namanvasudeva/Downloads/DAtaset/predict/images.jpeg', target_size = (64, 64))\n",
    "test_image = tf.keras.preprocessing.image.img_to_array(test_image)\n",
    "test_image = np.expand_dims(test_image, axis = 0)\n",
    "result = cnn.predict(test_image)\n",
    "training_set.class_indices\n",
    "if result[0][0] == 1:\n",
    "  prediction = 'Alert'\n",
    "else:\n",
    "  prediction = 'Drowsy'\n"
   ]
  },
  {
   "cell_type": "code",
   "execution_count": 17,
   "id": "b6adc600",
   "metadata": {
    "id": "f24640bd",
    "outputId": "7dab59e7-3153-4fd9-8260-a651769b2f09"
   },
   "outputs": [
    {
     "name": "stdout",
     "output_type": "stream",
     "text": [
      "Alert\n"
     ]
    }
   ],
   "source": [
    "print(prediction)\n"
   ]
  },
  {
   "cell_type": "code",
   "execution_count": 20,
   "id": "348fa3ad",
   "metadata": {},
   "outputs": [
    {
     "name": "stdout",
     "output_type": "stream",
     "text": [
      "1/1 [==============================] - 0s 8ms/step\n"
     ]
    }
   ],
   "source": [
    "import numpy as np\n",
    "from keras.preprocessing import image\n",
    "test_image = tf.keras.preprocessing.image.load_img('/Users/namanvasudeva/Downloads/DAtaset/predict/images-4.jpeg', target_size = (64, 64))\n",
    "test_image = tf.keras.preprocessing.image.img_to_array(test_image)\n",
    "test_image = np.expand_dims(test_image, axis = 0)\n",
    "result = cnn.predict(test_image)\n",
    "training_set.class_indices\n",
    "if result[0][0] == 1:\n",
    "  prediction = 'Drowsy'\n",
    "else:\n",
    "  prediction = 'Alert'"
   ]
  },
  {
   "cell_type": "code",
   "execution_count": 21,
   "id": "501427fa",
   "metadata": {},
   "outputs": [
    {
     "name": "stdout",
     "output_type": "stream",
     "text": [
      "Drowsy\n"
     ]
    }
   ],
   "source": [
    "print(prediction)"
   ]
  }
 ],
 "metadata": {
  "colab": {
   "collapsed_sections": [],
   "name": "Cat vs Dog image detector",
   "provenance": []
  },
  "kernelspec": {
   "display_name": "Python 3 (ipykernel)",
   "language": "python",
   "name": "python3"
  },
  "language_info": {
   "codemirror_mode": {
    "name": "ipython",
    "version": 3
   },
   "file_extension": ".py",
   "mimetype": "text/x-python",
   "name": "python",
   "nbconvert_exporter": "python",
   "pygments_lexer": "ipython3",
   "version": "3.9.13"
  }
 },
 "nbformat": 4,
 "nbformat_minor": 5
}
