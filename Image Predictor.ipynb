{
 "cells": [
  {
   "cell_type": "code",
   "execution_count": 1,
   "id": "af546776",
   "metadata": {},
   "outputs": [],
   "source": [
    "import tensorflow as tf\n",
    "from keras.preprocessing.image import ImageDataGenerator"
   ]
  },
  {
   "cell_type": "code",
   "execution_count": 2,
   "id": "83164b67",
   "metadata": {},
   "outputs": [
    {
     "data": {
      "text/plain": [
       "'2.9.1'"
      ]
     },
     "execution_count": 2,
     "metadata": {},
     "output_type": "execute_result"
    }
   ],
   "source": [
    "tf.__version__\n"
   ]
  },
  {
   "cell_type": "code",
   "execution_count": null,
   "id": "c5003f82",
   "metadata": {},
   "outputs": [],
   "source": [
    "Part 1 - Data Preprocessing\n",
    "Preprocessing the Training set"
   ]
  },
  {
   "cell_type": "code",
   "execution_count": 4,
   "id": "2daf4c0e",
   "metadata": {},
   "outputs": [
    {
     "name": "stdout",
     "output_type": "stream",
     "text": [
      "Found 10002 images belonging to 3 classes.\n"
     ]
    }
   ],
   "source": [
    "train_datagen = ImageDataGenerator(rescale = 1./255,\n",
    "                                   shear_range = 0.2,\n",
    "                                   zoom_range = 0.2,\n",
    "                                   horizontal_flip = True)\n",
    "training_set = train_datagen.flow_from_directory('C:/Users/ubuntu/Downloads/CNN Dataset (1)/CNN Dataset',\n",
    "                                                 target_size = (64, 64),\n",
    "                                                 batch_size = 32,\n",
    "                                                 class_mode = 'binary')"
   ]
  },
  {
   "cell_type": "code",
   "execution_count": null,
   "id": "1cf33504",
   "metadata": {},
   "outputs": [],
   "source": [
    "#Preprocessing the Test set"
   ]
  },
  {
   "cell_type": "code",
   "execution_count": 5,
   "id": "61656a90",
   "metadata": {},
   "outputs": [
    {
     "name": "stdout",
     "output_type": "stream",
     "text": [
      "Found 2000 images belonging to 2 classes.\n"
     ]
    }
   ],
   "source": [
    "test_datagen = ImageDataGenerator(rescale = 1./255)\n",
    "test_set = test_datagen.flow_from_directory('C:/Users/ubuntu/Downloads/CNN Dataset (1)/CNN Dataset/test_set',\n",
    "                                            target_size = (64, 64),\n",
    "                                            batch_size = 32,\n",
    "                                            class_mode = 'binary')"
   ]
  },
  {
   "cell_type": "code",
   "execution_count": null,
   "id": "abdf1a41",
   "metadata": {},
   "outputs": [],
   "source": [
    "Part 2 - Building the CNN\n",
    "Initialising the CNN"
   ]
  },
  {
   "cell_type": "code",
   "execution_count": 6,
   "id": "5669aabd",
   "metadata": {},
   "outputs": [],
   "source": [
    "cnn = tf.keras.models.Sequential()"
   ]
  },
  {
   "cell_type": "code",
   "execution_count": null,
   "id": "cd5e0165",
   "metadata": {},
   "outputs": [],
   "source": [
    "Step 1 - Convolution"
   ]
  },
  {
   "cell_type": "code",
   "execution_count": 7,
   "id": "b842410e",
   "metadata": {},
   "outputs": [],
   "source": [
    "cnn.add(tf.keras.layers.Conv2D(filters=32, kernel_size=3, activation='relu', input_shape=[64, 64, 3]))"
   ]
  },
  {
   "cell_type": "code",
   "execution_count": null,
   "id": "d927602f",
   "metadata": {},
   "outputs": [],
   "source": [
    "Step 2 - Pooling"
   ]
  },
  {
   "cell_type": "code",
   "execution_count": 8,
   "id": "114ddbc5",
   "metadata": {},
   "outputs": [],
   "source": [
    "cnn.add(tf.keras.layers.MaxPool2D(pool_size=2, strides=2))"
   ]
  },
  {
   "cell_type": "code",
   "execution_count": null,
   "id": "75cb7630",
   "metadata": {},
   "outputs": [],
   "source": [
    "Adding a second convolutional layer"
   ]
  },
  {
   "cell_type": "code",
   "execution_count": 9,
   "id": "133e8f7a",
   "metadata": {},
   "outputs": [],
   "source": [
    "cnn.add(tf.keras.layers.Conv2D(filters=32, kernel_size=3, activation='relu'))\n",
    "cnn.add(tf.keras.layers.MaxPool2D(pool_size=2, strides=2))"
   ]
  },
  {
   "cell_type": "code",
   "execution_count": null,
   "id": "75276d5f",
   "metadata": {},
   "outputs": [],
   "source": [
    "Step 3 - Flattening"
   ]
  },
  {
   "cell_type": "code",
   "execution_count": 10,
   "id": "b3292558",
   "metadata": {},
   "outputs": [],
   "source": [
    "cnn.add(tf.keras.layers.Flatten())"
   ]
  },
  {
   "cell_type": "code",
   "execution_count": null,
   "id": "4271166b",
   "metadata": {},
   "outputs": [],
   "source": [
    "Step 4 - Full Connection"
   ]
  },
  {
   "cell_type": "code",
   "execution_count": 11,
   "id": "b0faea82",
   "metadata": {},
   "outputs": [],
   "source": [
    "cnn.add(tf.keras.layers.Dense(units=128, activation='relu'))"
   ]
  },
  {
   "cell_type": "code",
   "execution_count": null,
   "id": "6e35b18d",
   "metadata": {},
   "outputs": [],
   "source": [
    "Step 5 - Output Layer"
   ]
  },
  {
   "cell_type": "code",
   "execution_count": 12,
   "id": "b85b9f6e",
   "metadata": {},
   "outputs": [],
   "source": [
    "cnn.add(tf.keras.layers.Dense(units=1, activation='sigmoid'))"
   ]
  },
  {
   "cell_type": "code",
   "execution_count": null,
   "id": "6024f845",
   "metadata": {},
   "outputs": [],
   "source": [
    "Part 3 - Training the CNN\n",
    "Compiling the CNN"
   ]
  },
  {
   "cell_type": "code",
   "execution_count": 13,
   "id": "b70bb3a8",
   "metadata": {},
   "outputs": [],
   "source": [
    "cnn.compile(optimizer = 'adam', loss = 'binary_crossentropy', metrics = ['accuracy'])"
   ]
  },
  {
   "cell_type": "code",
   "execution_count": null,
   "id": "cdd276d0",
   "metadata": {},
   "outputs": [],
   "source": [
    "Training the CNN on the Training set and evaluating it on the Test set"
   ]
  },
  {
   "cell_type": "code",
   "execution_count": 14,
   "id": "3f8cf506",
   "metadata": {},
   "outputs": [
    {
     "name": "stdout",
     "output_type": "stream",
     "text": [
      "Epoch 1/25\n",
      "313/313 [==============================] - 31s 98ms/step - loss: -39593600.0000 - accuracy: 0.1991 - val_loss: 139152528.0000 - val_accuracy: 0.5000\n",
      "Epoch 2/25\n",
      "313/313 [==============================] - 31s 98ms/step - loss: -1646609920.0000 - accuracy: 0.2000 - val_loss: 2755376128.0000 - val_accuracy: 0.5000\n",
      "Epoch 3/25\n",
      "313/313 [==============================] - 31s 98ms/step - loss: -11847382016.0000 - accuracy: 0.2000 - val_loss: 14150959104.0000 - val_accuracy: 0.5000\n",
      "Epoch 4/25\n",
      "313/313 [==============================] - 31s 99ms/step - loss: -42827980800.0000 - accuracy: 0.2000 - val_loss: 42813034496.0000 - val_accuracy: 0.5000\n",
      "Epoch 5/25\n",
      "313/313 [==============================] - 31s 98ms/step - loss: -108761645056.0000 - accuracy: 0.2000 - val_loss: 97634746368.0000 - val_accuracy: 0.5000\n",
      "Epoch 6/25\n",
      "313/313 [==============================] - 31s 99ms/step - loss: -224030736384.0000 - accuracy: 0.2000 - val_loss: 187882078208.0000 - val_accuracy: 0.5000\n",
      "Epoch 7/25\n",
      "313/313 [==============================] - 31s 98ms/step - loss: -403423854592.0000 - accuracy: 0.2000 - val_loss: 322039676928.0000 - val_accuracy: 0.5000\n",
      "Epoch 8/25\n",
      "313/313 [==============================] - 31s 97ms/step - loss: -660047790080.0000 - accuracy: 0.2000 - val_loss: 508761407488.0000 - val_accuracy: 0.5000\n",
      "Epoch 9/25\n",
      "313/313 [==============================] - 30s 97ms/step - loss: -1009021681664.0000 - accuracy: 0.2000 - val_loss: 756824473600.0000 - val_accuracy: 0.5000\n",
      "Epoch 10/25\n",
      "313/313 [==============================] - 30s 97ms/step - loss: -1463306813440.0000 - accuracy: 0.2000 - val_loss: 1074588024832.0000 - val_accuracy: 0.5000\n",
      "Epoch 11/25\n",
      "313/313 [==============================] - 30s 97ms/step - loss: -2034168758272.0000 - accuracy: 0.2000 - val_loss: 1469184606208.0000 - val_accuracy: 0.5000\n",
      "Epoch 12/25\n",
      "313/313 [==============================] - 30s 97ms/step - loss: -2732902055936.0000 - accuracy: 0.2000 - val_loss: 1948058779648.0000 - val_accuracy: 0.5000\n",
      "Epoch 13/25\n",
      "313/313 [==============================] - 30s 97ms/step - loss: -3585148715008.0000 - accuracy: 0.2000 - val_loss: 2522151124992.0000 - val_accuracy: 0.5000\n",
      "Epoch 14/25\n",
      "313/313 [==============================] - 30s 97ms/step - loss: -4584594997248.0000 - accuracy: 0.2000 - val_loss: 3196912926720.0000 - val_accuracy: 0.5000\n",
      "Epoch 15/25\n",
      "313/313 [==============================] - 30s 97ms/step - loss: -5752890064896.0000 - accuracy: 0.2000 - val_loss: 3979603083264.0000 - val_accuracy: 0.5000\n",
      "Epoch 16/25\n",
      "313/313 [==============================] - 30s 97ms/step - loss: -7110888783872.0000 - accuracy: 0.2000 - val_loss: 4883235733504.0000 - val_accuracy: 0.5000\n",
      "Epoch 17/25\n",
      "313/313 [==============================] - 30s 97ms/step - loss: -8662869344256.0000 - accuracy: 0.2000 - val_loss: 5912988221440.0000 - val_accuracy: 0.5000\n",
      "Epoch 18/25\n",
      "313/313 [==============================] - 30s 97ms/step - loss: -10419783598080.0000 - accuracy: 0.2000 - val_loss: 7078985334784.0000 - val_accuracy: 0.5000\n",
      "Epoch 19/25\n",
      "313/313 [==============================] - 30s 97ms/step - loss: -12419419078656.0000 - accuracy: 0.2000 - val_loss: 8386883092480.0000 - val_accuracy: 0.5000\n",
      "Epoch 20/25\n",
      "313/313 [==============================] - 30s 97ms/step - loss: -14652688826368.0000 - accuracy: 0.2000 - val_loss: 9848620056576.0000 - val_accuracy: 0.5000\n",
      "Epoch 21/25\n",
      "313/313 [==============================] - 30s 97ms/step - loss: -17126073040896.0000 - accuracy: 0.2000 - val_loss: 11475360940032.0000 - val_accuracy: 0.5000\n",
      "Epoch 22/25\n",
      "313/313 [==============================] - 30s 97ms/step - loss: -19883718868992.0000 - accuracy: 0.2000 - val_loss: 13274886176768.0000 - val_accuracy: 0.5000\n",
      "Epoch 23/25\n",
      "313/313 [==============================] - 30s 97ms/step - loss: -22922439688192.0000 - accuracy: 0.2000 - val_loss: 15256373952512.0000 - val_accuracy: 0.5000\n",
      "Epoch 24/25\n",
      "313/313 [==============================] - 30s 97ms/step - loss: -26277589286912.0000 - accuracy: 0.2000 - val_loss: 17430471507968.0000 - val_accuracy: 0.5000\n",
      "Epoch 25/25\n",
      "313/313 [==============================] - 31s 97ms/step - loss: -29918507302912.0000 - accuracy: 0.2000 - val_loss: 19808384974848.0000 - val_accuracy: 0.5000\n"
     ]
    },
    {
     "data": {
      "text/plain": [
       "<keras.callbacks.History at 0x20bb2b8a0d0>"
      ]
     },
     "execution_count": 14,
     "metadata": {},
     "output_type": "execute_result"
    }
   ],
   "source": [
    "cnn.fit(x = training_set, validation_data = test_set, epochs = 25)"
   ]
  },
  {
   "cell_type": "code",
   "execution_count": null,
   "id": "ecf7150b",
   "metadata": {},
   "outputs": [],
   "source": [
    "Part 4 - Making a single prediction"
   ]
  },
  {
   "cell_type": "code",
   "execution_count": 16,
   "id": "aca2f7b0",
   "metadata": {},
   "outputs": [
    {
     "ename": "AttributeError",
     "evalue": "module 'keras.preprocessing.image' has no attribute 'load_img'",
     "output_type": "error",
     "traceback": [
      "\u001b[1;31m---------------------------------------------------------------------------\u001b[0m",
      "\u001b[1;31mAttributeError\u001b[0m                            Traceback (most recent call last)",
      "\u001b[1;32m~\\AppData\\Local\\Temp/ipykernel_46100/2764462988.py\u001b[0m in \u001b[0;36m<module>\u001b[1;34m\u001b[0m\n\u001b[0;32m      1\u001b[0m \u001b[1;32mimport\u001b[0m \u001b[0mnumpy\u001b[0m \u001b[1;32mas\u001b[0m \u001b[0mnp\u001b[0m\u001b[1;33m\u001b[0m\u001b[1;33m\u001b[0m\u001b[0m\n\u001b[0;32m      2\u001b[0m \u001b[1;33m\u001b[0m\u001b[0m\n\u001b[1;32m----> 3\u001b[1;33m \u001b[0mtest_image\u001b[0m \u001b[1;33m=\u001b[0m \u001b[0mimage\u001b[0m\u001b[1;33m.\u001b[0m\u001b[0mload_img\u001b[0m\u001b[1;33m(\u001b[0m\u001b[1;34m'C:/Users/ubuntu/Downloads/CNN Dataset (1)/CNN Dataset/single_prediction/cat_or_dog_1.jpg'\u001b[0m\u001b[1;33m,\u001b[0m \u001b[0mtarget_size\u001b[0m \u001b[1;33m=\u001b[0m \u001b[1;33m(\u001b[0m\u001b[1;36m64\u001b[0m\u001b[1;33m,\u001b[0m \u001b[1;36m64\u001b[0m\u001b[1;33m)\u001b[0m\u001b[1;33m)\u001b[0m\u001b[1;33m\u001b[0m\u001b[1;33m\u001b[0m\u001b[0m\n\u001b[0m\u001b[0;32m      4\u001b[0m \u001b[0mtest_image\u001b[0m \u001b[1;33m=\u001b[0m \u001b[0mimage\u001b[0m\u001b[1;33m.\u001b[0m\u001b[0mimg_to_array\u001b[0m\u001b[1;33m(\u001b[0m\u001b[0mtest_image\u001b[0m\u001b[1;33m)\u001b[0m\u001b[1;33m\u001b[0m\u001b[1;33m\u001b[0m\u001b[0m\n\u001b[0;32m      5\u001b[0m \u001b[0mtest_image\u001b[0m \u001b[1;33m=\u001b[0m \u001b[0mnp\u001b[0m\u001b[1;33m.\u001b[0m\u001b[0mexpand_dims\u001b[0m\u001b[1;33m(\u001b[0m\u001b[0mtest_image\u001b[0m\u001b[1;33m,\u001b[0m \u001b[0maxis\u001b[0m \u001b[1;33m=\u001b[0m \u001b[1;36m0\u001b[0m\u001b[1;33m)\u001b[0m\u001b[1;33m\u001b[0m\u001b[1;33m\u001b[0m\u001b[0m\n",
      "\u001b[1;31mAttributeError\u001b[0m: module 'keras.preprocessing.image' has no attribute 'load_img'"
     ]
    }
   ],
   "source": [
    "import numpy as np\n",
    "\n",
    "test_image = image.load_img('C:/Users/ubuntu/Downloads/CNN Dataset (1)/CNN Dataset/single_prediction/cat_or_dog_1.jpg', target_size = (64, 64))\n",
    "test_image = image.img_to_array(test_image)\n",
    "test_image = np.expand_dims(test_image, axis = 0)\n",
    "result = cnn.predict(test_image)\n",
    "training_set.class_indices\n",
    "if result[0][0] == 1:\n",
    "  prediction = 'dog'\n",
    "else:\n",
    "  prediction = 'cat'"
   ]
  },
  {
   "cell_type": "code",
   "execution_count": null,
   "id": "3edb7315",
   "metadata": {},
   "outputs": [],
   "source": [
    "print(prediction)"
   ]
  },
  {
   "cell_type": "code",
   "execution_count": null,
   "id": "8d44ce6c",
   "metadata": {},
   "outputs": [],
   "source": []
  }
 ],
 "metadata": {
  "kernelspec": {
   "display_name": "Python 3 (ipykernel)",
   "language": "python",
   "name": "python3"
  },
  "language_info": {
   "codemirror_mode": {
    "name": "ipython",
    "version": 3
   },
   "file_extension": ".py",
   "mimetype": "text/x-python",
   "name": "python",
   "nbconvert_exporter": "python",
   "pygments_lexer": "ipython3",
   "version": "3.9.7"
  }
 },
 "nbformat": 4,
 "nbformat_minor": 5
}
